{
 "cells": [
  {
   "cell_type": "code",
   "id": "4db65407147b2884",
   "metadata": {
    "collapsed": true,
    "ExecuteTime": {
     "end_time": "2024-07-13T12:46:34.437783Z",
     "start_time": "2024-07-13T12:46:31.460738Z"
    }
   },
   "source": [
    "import torch\n",
    "import torch.nn as nn\n",
    "import torch.optim as optim\n",
    "import torchvision\n",
    "import torchvision.transforms as transforms\n",
    "import optuna\n",
    "\n",
    "# 加载和预处理数据\n",
    "transform = transforms.Compose([transforms.ToTensor()])\n",
    "train_dataset = torchvision.datasets.MNIST(root='./data', train=True, download=True, transform=transform)\n",
    "test_dataset = torchvision.datasets.MNIST(root='./data', train=False, download=True, transform=transform)\n",
    "\n",
    "train_loader = torch.utils.data.DataLoader(train_dataset, batch_size=100, shuffle=True)\n",
    "test_loader = torch.utils.data.DataLoader(test_dataset, batch_size=100, shuffle=False)\n",
    "\n",
    "# 定义自定义激活函数\n",
    "class CustomActivation(nn.Module):\n",
    "    def __init__(self, noise_std):\n",
    "        super().__init__()\n",
    "        self.noise_std = noise_std\n",
    "\n",
    "    def forward(self, input):\n",
    "        noise = torch.randn_like(input) * self.noise_std\n",
    "        temp = input * (1 + torch.erf(input / (1 + noise))) / 2\n",
    "        return temp\n",
    "\n",
    "class NetGELU(nn.Module):\n",
    "    def __init__(self, noise_std):\n",
    "        super(NetGELU, self).__init__()\n",
    "        self.flatten = nn.Flatten()  # 28*28二维图像展平成一维向量，size=784\n",
    "        self.fc1 = nn.Linear(28 * 28, 30)  # 784维映射到30维\n",
    "        self.custom1 = CustomActivation(noise_std)  # 自定义激活函数层\n",
    "        self.dropout = nn.Dropout(0.5)  # 舍去50%的神经元\n",
    "        self.fc2 = nn.Linear(30, 10)  # 30维映射到10维\n",
    "\n",
    "    def forward(self, x):\n",
    "        x = self.flatten(x)\n",
    "        x = self.fc1(x)\n",
    "        x = self.custom1(x)\n",
    "        x = self.dropout(x)\n",
    "        x = self.fc2(x)\n",
    "        return x"
   ],
   "execution_count": 1,
   "outputs": []
  },
  {
   "metadata": {
    "ExecuteTime": {
     "end_time": "2024-07-13T13:20:57.312057Z",
     "start_time": "2024-07-13T12:50:20.351860Z"
    }
   },
   "cell_type": "code",
   "source": [
    "def objective(trial):\n",
    "    noise_std = trial.suggest_float(\"noise_std\", 0.01, 0.3)\n",
    "    \n",
    "    device = torch.device('cuda' if torch.cuda.is_available() else 'cpu')\n",
    "    model = NetGELU(noise_std).to(device)\n",
    "    criterion = nn.CrossEntropyLoss()  # 交叉熵损失函数\n",
    "    optimizer = optim.Adam(model.parameters(), lr=0.01)\n",
    "\n",
    "    num_epochs = 10\n",
    "    for epoch in range(num_epochs):\n",
    "        model.train()  # 将模型设置为训练模式，以便在前向传播时启用 Dropout 和 BatchNorm\n",
    "        running_loss = 0.0\n",
    "        for inputs, labels in train_loader:\n",
    "            inputs, labels = inputs.to(device), labels.to(device)\n",
    "            outputs = model(inputs)\n",
    "            loss = criterion(outputs, labels)\n",
    "            optimizer.zero_grad()\n",
    "            loss.backward()\n",
    "            optimizer.step()\n",
    "            running_loss += loss.item()\n",
    "\n",
    "        # 在测试集上验证模型\n",
    "        model.eval()\n",
    "        correct = 0\n",
    "        total = 0\n",
    "        with torch.no_grad():  # 在验证过程中禁用梯度计算，以提高计算速度和节省内存。\n",
    "            for inputs, labels in test_loader:\n",
    "                inputs, labels = inputs.to(device), labels.to(device)\n",
    "                outputs = model(inputs)\n",
    "                _, predicted = torch.max(outputs.data, 1)\n",
    "                total += labels.size(0)\n",
    "                correct += (predicted == labels).sum().item()\n",
    "\n",
    "        accuracy = 100 * correct / total\n",
    "        \n",
    "    return accuracy\n",
    "\n",
    "# 运行优化\n",
    "study = optuna.create_study(direction=\"maximize\")\n",
    "study.optimize(objective, n_trials=20)\n",
    "\n",
    "# 获取最佳噪声标准差值\n",
    "best_noise_std = study.best_params[\"noise_std\"]\n",
    "print(\"Best noise standard deviation:\", best_noise_std)"
   ],
   "id": "9530c1d859d87237",
   "execution_count": 3,
   "outputs": []
  },
  {
   "metadata": {
    "ExecuteTime": {
     "end_time": "2024-07-13T13:28:36.877232Z",
     "start_time": "2024-07-13T13:20:57.313805Z"
    }
   },
   "cell_type": "code",
   "source": [
    "\n",
    "# 使用最佳 sigma 重新训练模型\n",
    "device = torch.device('cuda' if torch.cuda.is_available() else 'cpu')\n",
    "model = NetGELU(best_noise_std).to(device)\n",
    "criterion = nn.CrossEntropyLoss()  # 交叉熵损失函数\n",
    "optimizer = optim.Adam(model.parameters(), lr=0.01)\n",
    "num_epochs = 50\n",
    "\n",
    "for epoch in range(num_epochs):\n",
    "    model.train()  # 将模型设置为训练模式，以便在前向传播时启用 Dropout 和 BatchNorm\n",
    "    running_loss = 0.0\n",
    "    for inputs, labels in train_loader:\n",
    "        inputs, labels = inputs.to(device), labels.to(device)\n",
    "        outputs = model(inputs)\n",
    "        loss = criterion(outputs, labels)\n",
    "        optimizer.zero_grad()\n",
    "        loss.backward()\n",
    "        optimizer.step()\n",
    "        running_loss += loss.item()\n",
    "\n",
    "    print(f'Epoch [{epoch + 1}/{num_epochs}], Loss: {running_loss / len(train_loader):.4f}')\n",
    "\n",
    "    # 在测试集上验证模型\n",
    "    model.eval()\n",
    "    correct = 0\n",
    "    total = 0\n",
    "    with torch.no_grad():  # 在验证过程中禁用梯度计算，以提高计算速度和节省内存。\n",
    "        for inputs, labels in test_loader:\n",
    "            inputs, labels = inputs.to(device), labels.to(device)\n",
    "            outputs = model(inputs)\n",
    "            _, predicted = torch.max(outputs.data, 1)\n",
    "            total += labels.size(0)\n",
    "            correct += (predicted == labels).sum().item()\n",
    "\n",
    "    print(f'Accuracy of the network on the 10000 test images: {100 * correct / total:.2f}%')\n",
    "\n",
    "print('Finished Training')\n"
   ],
   "id": "initial_id",
   "execution_count": 4,
   "outputs": []
  },
  {
   "metadata": {},
   "cell_type": "code",
   "execution_count": null,
   "source": "",
   "id": "85532b5f3879469c",
   "outputs": []
  }
 ],
 "metadata": {
  "kernelspec": {
   "display_name": "Python 3",
   "language": "python",
   "name": "python3"
  },
  "language_info": {
   "codemirror_mode": {
    "name": "ipython",
    "version": 2
   },
   "file_extension": ".py",
   "mimetype": "text/x-python",
   "name": "python",
   "nbconvert_exporter": "python",
   "pygments_lexer": "ipython2",
   "version": "2.7.6"
  }
 },
 "nbformat": 4,
 "nbformat_minor": 5
}
