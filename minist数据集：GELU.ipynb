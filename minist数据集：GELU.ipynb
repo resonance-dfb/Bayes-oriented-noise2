{
 "cells": [
  {
   "cell_type": "code",
   "id": "9ac3af0b84669aa4",
   "metadata": {
    "collapsed": true,
    "ExecuteTime": {
     "end_time": "2024-07-13T02:33:38.789305Z",
     "start_time": "2024-07-13T02:33:17.235271Z"
    }
   },
   "source": [
    "import torch\n",
    "import torch.nn as nn\n",
    "import torch.optim as optim\n",
    "import torchvision\n",
    "import torchvision.transforms as transforms\n",
    "import numpy as np\n",
    "import math\n",
    "import optuna\n",
    "# 加载和预处理数据\n",
    "transform = transforms.Compose([transforms.ToTensor()])\n",
    "train_dataset = torchvision.datasets.MNIST(root='./data', train=True, download=True, transform=transform)\n",
    "test_dataset = torchvision.datasets.MNIST(root='./data', train=False, download=True, transform=transform)\n",
    "\n",
    "train_loader = torch.utils.data.DataLoader(train_dataset, batch_size=100, shuffle=True)\n",
    "test_loader = torch.utils.data.DataLoader(test_dataset, batch_size=100, shuffle=False)"
   ],
   "execution_count": 1,
   "outputs": []
  },
  {
   "metadata": {
    "ExecuteTime": {
     "end_time": "2024-07-13T02:40:21.045845Z",
     "start_time": "2024-07-13T02:40:21.028164Z"
    }
   },
   "cell_type": "code",
   "source": [
    "class Custom(nn.Module):  # 激活函数含噪声参数\n",
    "    def __init__(self,sigma):\n",
    "        super().__init__()\n",
    "        self.sigma = nn.Parameter(torch.tensor(sigma))  # 1个可学习参数 sigma\n",
    "    def forward(self, input):\n",
    "        temp = input * (1 + torch.erf(input / self.sigma)) / 2  # 前向传播\n",
    "        return temp\n",
    "\n",
    "class NetGELU(nn.Module):\n",
    "    def __init__(self,sigma):\n",
    "        super(NetGELU, self).__init__()\n",
    "        self.flatten = nn.Flatten()  # 28*28二维图像展平成一维向量，size=784\n",
    "        self.fc1 = nn.Linear(28*28, 30)  # 784维映射到50维\n",
    "        self.custom1 = Custom(sigma)  # 自定义激活函数层\n",
    "        self.dropout = nn.Dropout(0.5)  # 舍去50%的神经元\n",
    "        self.fc2 = nn.Linear(30, 10)  # 50维映射到10维\n",
    "\n",
    "    def forward(self, x):\n",
    "        x = self.flatten(x)\n",
    "        x = self.fc1(x)\n",
    "        x = self.custom1(x)\n",
    "        x = self.dropout(x)\n",
    "        x = self.fc2(x)\n",
    "        return x"
   ],
   "id": "e82b574b9933c09d",
   "execution_count": 9,
   "outputs": []
  },
  {
   "metadata": {
    "ExecuteTime": {
     "end_time": "2024-07-13T02:53:16.049173Z",
     "start_time": "2024-07-13T02:53:16.036208Z"
    }
   },
   "cell_type": "code",
   "source": [
    "def objective(trial):\n",
    "    sigma = trial.suggest_float(\"sigma\", 0.1, 7.0)  # 使用 Optuna 建议 sigma 值\n",
    "    device = torch.device('cuda' if torch.cuda.is_available() else 'cpu')\n",
    "    model = NetGELU(sigma).to(device)\n",
    "    criterion = nn.CrossEntropyLoss()  # 交叉熵损失函数\n",
    "    optimizer = optim.Adam(model.parameters(), lr=0.01)\n",
    "\n",
    "    num_epochs = 50\n",
    "    for epoch in range(num_epochs):\n",
    "        model.train()  # 将模型设置为训练模式，以便在前向传播时启用 Dropout 和 BatchNorm\n",
    "        running_loss = 0.0\n",
    "        for inputs, labels in train_loader:\n",
    "            inputs, labels = inputs.to(device), labels.to(device)\n",
    "            outputs = model(inputs)\n",
    "            loss = criterion(outputs, labels)\n",
    "            optimizer.zero_grad()\n",
    "            loss.backward()\n",
    "            optimizer.step()\n",
    "            running_loss += loss.item()\n",
    "        \n",
    "    \n",
    "        # 在测试集上验证模型\n",
    "        model.eval()\n",
    "        correct = 0\n",
    "        total = 0\n",
    "        with torch.no_grad():  # 在验证过程中禁用梯度计算，以提高计算速度和节省内存。\n",
    "            for inputs, labels in test_loader:\n",
    "                inputs, labels = inputs.to(device), labels.to(device)\n",
    "                outputs = model(inputs)\n",
    "                _, predicted = torch.max(outputs.data, 1)\n",
    "                total += labels.size(0)\n",
    "                correct += (predicted == labels).sum().item()\n",
    "        accuracy = 100 * correct / total\n",
    "        \n",
    "        return accuracy\n",
    "        "
   ],
   "id": "b5f4cd9a9d56db87",
   "execution_count": 14,
   "outputs": []
  },
  {
   "metadata": {
    "ExecuteTime": {
     "end_time": "2024-07-13T02:59:36.061879Z",
     "start_time": "2024-07-13T02:53:16.388148Z"
    }
   },
   "cell_type": "code",
   "source": [
    "# 运行优化\n",
    "study = optuna.create_study(direction=\"maximize\")\n",
    "study.optimize(objective, n_trials=40)\n",
    "\n",
    "# 获取最佳 sigma 值\n",
    "best_sigma = study.best_params[\"sigma\"]\n",
    "print(\"Best sigma:\", best_sigma)"
   ],
   "id": "initial_id",
   "execution_count": 15,
   "outputs": []
  },
  {
   "metadata": {
    "ExecuteTime": {
     "end_time": "2024-07-13T03:07:32.206664Z",
     "start_time": "2024-07-13T02:59:36.062874Z"
    }
   },
   "cell_type": "code",
   "source": [
    "# 实例化模型、定义损失函数和优化器\n",
    "device = torch.device('cuda' if torch.cuda.is_available() else 'cpu')\n",
    "model = NetGELU(best_sigma).to(device)\n",
    "criterion = nn.CrossEntropyLoss()  # 交叉熵损失函数\n",
    "optimizer = optim.Adam(model.parameters(), lr=0.01)\n",
    "\n",
    "num_epochs = 50\n",
    "\n",
    "\n",
    "for epoch in range(num_epochs):\n",
    "    model.train()  # 将模型设置为训练模式，以便在前向传播时启用 Dropout 和 BatchNorm\n",
    "    running_loss = 0.0\n",
    "    for inputs, labels in train_loader:\n",
    "        inputs, labels = inputs.to(device), labels.to(device)\n",
    "        outputs = model(inputs)\n",
    "        loss = criterion(outputs, labels)\n",
    "        optimizer.zero_grad()\n",
    "        loss.backward()\n",
    "        \n",
    "        optimizer.step()\n",
    "        running_loss += loss.item()\n",
    "\n",
    "    print(f'Epoch [{epoch+1}/{num_epochs}], Loss: {running_loss/len(train_loader):.4f}')\n",
    "\n",
    "    # 在测试集上验证模型\n",
    "    model.eval()\n",
    "    correct = 0\n",
    "    total = 0\n",
    "    with torch.no_grad():  # 在验证过程中禁用梯度计算，以提高计算速度和节省内存。\n",
    "        for inputs, labels in test_loader:\n",
    "            inputs, labels = inputs.to(device), labels.to(device)\n",
    "            outputs = model(inputs)\n",
    "            _, predicted = torch.max(outputs.data, 1)\n",
    "            total += labels.size(0)\n",
    "            correct += (predicted == labels).sum().item()\n",
    "\n",
    "    print(f'Accuracy of the network on the 10000 test images: {100 * correct / total:.2f}%')\n",
    "\n",
    "print('Finished Training')"
   ],
   "id": "f963dd6fc1293aa0",
   "execution_count": 16,
   "outputs": []
  },
  {
   "metadata": {},
   "cell_type": "code",
   "execution_count": null,
   "source": " ",
   "id": "34a1a23bf625e88",
   "outputs": []
  }
 ],
 "metadata": {
  "kernelspec": {
   "display_name": "Python 3",
   "language": "python",
   "name": "python3"
  },
  "language_info": {
   "codemirror_mode": {
    "name": "ipython",
    "version": 2
   },
   "file_extension": ".py",
   "mimetype": "text/x-python",
   "name": "python",
   "nbconvert_exporter": "python",
   "pygments_lexer": "ipython2",
   "version": "2.7.6"
  }
 },
 "nbformat": 4,
 "nbformat_minor": 5
}
