{
 "cells": [
  {
   "cell_type": "code",
   "id": "a4dacce4269e7978",
   "metadata": {
    "collapsed": true,
    "ExecuteTime": {
     "end_time": "2024-07-13T12:46:12.258979Z",
     "start_time": "2024-07-13T12:46:12.210112Z"
    }
   },
   "source": [
    "import torch\n",
    "import torch.nn as nn\n",
    "import torch.optim as optim\n",
    "import torchvision\n",
    "import torchvision.transforms as transforms\n",
    "import numpy as np\n",
    "import os\n",
    "import optuna\n",
    "\n",
    "#加载和预处理数据\n",
    "transform = transforms.Compose([transforms.ToTensor()])\n",
    "#transforms.ToTensor(): 将PIL图像或NumPy数组转换为PyTorch张量，并且会将图像的像素值从范围 [0, 255]缩放到 [0.0, 1.0]。transforms.Normalize((0.5,), (0.5,)): 将张量的每个通道的像素值进行标准化。像素值从 [0, 1] 归一化到 [-1, 1]。具体公式是：(x - mean) / std，其中mean和std是给定的均值和标准差。\n",
    "train_dataset = torchvision.datasets.MNIST(root='./data', train=True, download=True, transform=transform)\n",
    "test_dataset = torchvision.datasets.MNIST(root='./data', train=False, download=True, transform=transform)\n",
    "#torchvision.datasets.MNIST 是一个用于加载MNIST数据集的类。\n",
    "\n",
    "train_loader = torch.utils.data.DataLoader(train_dataset, batch_size=100, shuffle=True)\n",
    "test_loader = torch.utils.data.DataLoader(test_dataset, batch_size=100, shuffle=False)\n",
    "\n",
    "\n",
    "#torch.utils.data.DataLoader 是PyTorch用于加载数据集的类。它能够处理批量数据并进行多线程加载。批次的数据量为100,训练随机打乱，测试不打乱。"
   ],
   "execution_count": 15,
   "outputs": []
  },
  {
   "metadata": {
    "ExecuteTime": {
     "end_time": "2024-07-13T12:46:12.584859Z",
     "start_time": "2024-07-13T12:46:12.564608Z"
    }
   },
   "cell_type": "code",
   "source": [
    "# 定义神经网络模型\n",
    "class Net(nn.Module):\n",
    "    def __init__(self):\n",
    "        super(Net, self).__init__()\n",
    "        self.flatten = nn.Flatten()  #28*28二维图像展平成一维向量，size=784\n",
    "        self.fc1 = nn.Linear(28 * 28, 30)  #784维映射到128维\n",
    "        self.relu = nn.ReLU()\n",
    "        self.dropout = nn.Dropout(0.5)  #舍去50%的神经元\n",
    "        self.fc2 = nn.Linear(30, 10)  #128维映射导10维\n",
    "\n",
    "    def forward(self, x):\n",
    "        x = self.flatten(x)\n",
    "        x = self.fc1(x)\n",
    "        x = self.relu(x)\n",
    "        x = self.dropout(x)\n",
    "        x = self.fc2(x)\n",
    "        return x\n",
    "\n",
    "def add_noise(inputs, noise_level):\n",
    "    noise = torch.randn_like(inputs) * noise_level\n",
    "    return inputs + noise"
   ],
   "id": "4e042f0851558176",
   "execution_count": 16,
   "outputs": []
  },
  {
   "metadata": {
    "ExecuteTime": {
     "end_time": "2024-07-13T12:46:13.573010Z",
     "start_time": "2024-07-13T12:46:13.559758Z"
    }
   },
   "cell_type": "code",
   "source": [
    "def objective(trial):\n",
    "    noise_level = trial.suggest_float(\"noise_level\", 0.0, 0.2)  # 优化噪声水平\n",
    "\n",
    "    # 实例化模型、定义损失函数和优化器\n",
    "    device = torch.device('cuda' if torch.cuda.is_available() else 'cpu')\n",
    "    model = Net().to(device)\n",
    "    criterion = nn.CrossEntropyLoss()  # 交叉熵损失函数\n",
    "    optimizer = optim.Adam(model.parameters(), lr=0.01)\n",
    "\n",
    "    num_epochs = 10  # 可以根据需要调整\n",
    "    for epoch in range(num_epochs):\n",
    "        model.train()  # 将模型设置为训练模式，以便在前向传播时启用 Dropout 和 BatchNorm\n",
    "        running_loss = 0.0\n",
    "        for inputs, labels in train_loader:\n",
    "            inputs, labels = inputs.to(device), labels.to(device)\n",
    "            inputs = add_noise(inputs, noise_level)  # 添加噪声\n",
    "            outputs = model(inputs)\n",
    "            loss = criterion(outputs, labels)\n",
    "            optimizer.zero_grad()\n",
    "            loss.backward()\n",
    "            optimizer.step()\n",
    "            running_loss += loss.item()\n",
    "\n",
    "    # 在测试集上验证模型\n",
    "    model.eval()\n",
    "    correct = 0\n",
    "    total = 0\n",
    "    with torch.no_grad():  # 在验证过程中禁用梯度计算，以提高计算速度和节省内存。\n",
    "        for inputs, labels in test_loader:\n",
    "            inputs, labels = inputs.to(device), labels.to(device)\n",
    "            inputs = add_noise(inputs, noise_level)  # 添加噪声\n",
    "            outputs = model(inputs)\n",
    "            _, predicted = torch.max(outputs.data, 1)\n",
    "            total += labels.size(0)\n",
    "            correct += (predicted == labels).sum().item()\n",
    "\n",
    "    accuracy = 100 * correct / total\n",
    "    return accuracy"
   ],
   "id": "3c5551f3a981f5b9",
   "execution_count": 17,
   "outputs": []
  },
  {
   "metadata": {
    "ExecuteTime": {
     "end_time": "2024-07-13T09:09:09.389535Z",
     "start_time": "2024-07-13T08:41:05.845432Z"
    }
   },
   "cell_type": "code",
   "source": [
    "# 运行优化\n",
    "study = optuna.create_study(direction=\"maximize\")\n",
    "study.optimize(objective, n_trials=20)\n",
    "\n",
    "# 获取最佳噪声水平\n",
    "best_noise_level = study.best_params[\"noise_level\"]\n",
    "print(\"Best noise level:\", best_noise_level)"
   ],
   "id": "initial_id",
   "execution_count": 13,
   "outputs": []
  },
  {
   "metadata": {
    "ExecuteTime": {
     "end_time": "2024-07-13T09:17:07.330497Z",
     "start_time": "2024-07-13T09:09:09.391530Z"
    }
   },
   "cell_type": "code",
   "source": [
    "\n",
    "# 实例化模型、定义损失函数和优化器\n",
    "device = torch.device('cuda' if torch.cuda.is_available() else 'cpu')\n",
    "# 使用最佳噪声水平重新训练模型\n",
    "model = Net().to(device)\n",
    "criterion = nn.CrossEntropyLoss()  # 交叉熵损失函数\n",
    "optimizer = optim.Adam(model.parameters(), lr=0.01)\n",
    "num_epochs = 50\n",
    "\n",
    "for epoch in range(num_epochs):\n",
    "    model.train()  # 将模型设置为训练模式，以便在前向传播时启用 Dropout 和 BatchNorm\n",
    "    running_loss = 0.0\n",
    "    for inputs, labels in train_loader:\n",
    "        inputs, labels = inputs.to(device), labels.to(device)\n",
    "        inputs = add_noise(inputs, best_noise_level)  # 使用最佳噪声水平添加噪声\n",
    "        outputs = model(inputs)\n",
    "        loss = criterion(outputs, labels)\n",
    "        optimizer.zero_grad()\n",
    "        loss.backward()\n",
    "        optimizer.step()\n",
    "        running_loss += loss.item()\n",
    "\n",
    "    print(f'Epoch [{epoch + 1}/{num_epochs}], Loss: {running_loss / len(train_loader):.4f}')\n",
    "\n",
    "    # 在测试集上验证模型\n",
    "    model.eval()\n",
    "    correct = 0\n",
    "    total = 0\n",
    "    with torch.no_grad():  # 在验证过程中禁用梯度计算，以提高计算速度和节省内存。\n",
    "        for inputs, labels in test_loader:\n",
    "            inputs, labels = inputs.to(device), labels.to(device)\n",
    "            inputs = add_noise(inputs, best_noise_level)\n",
    "            outputs = model(inputs)\n",
    "            _, predicted = torch.max(outputs.data, 1)\n",
    "            total += labels.size(0)\n",
    "            correct += (predicted == labels).sum().item()\n",
    "\n",
    "    print(f'Accuracy of the network on the 10000 test images: {100 * correct / total:.2f}%')\n",
    "\n",
    "print('Finished Training')"
   ],
   "id": "7c7ef5baeb9ee5f5",
   "execution_count": 14,
   "outputs": []
  },
  {
   "metadata": {},
   "cell_type": "code",
   "source": "",
   "id": "8819e9bb566a2061",
   "execution_count": null,
   "outputs": []
  }
 ],
 "metadata": {
  "kernelspec": {
   "display_name": "Python 3",
   "language": "python",
   "name": "python3"
  },
  "language_info": {
   "codemirror_mode": {
    "name": "ipython",
    "version": 2
   },
   "file_extension": ".py",
   "mimetype": "text/x-python",
   "name": "python",
   "nbconvert_exporter": "python",
   "pygments_lexer": "ipython2",
   "version": "2.7.6"
  }
 },
 "nbformat": 4,
 "nbformat_minor": 5
}
